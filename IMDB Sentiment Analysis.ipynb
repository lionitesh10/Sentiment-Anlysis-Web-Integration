{
 "cells": [
  {
   "cell_type": "code",
   "execution_count": 25,
   "id": "a04a0996",
   "metadata": {},
   "outputs": [],
   "source": [
    "import pandas as pd\n",
    "import pickle\n",
    "from sklearn.feature_extraction.text import CountVectorizer,TfidfTransformer\n",
    "from sklearn.model_selection import train_test_split\n",
    "from sklearn.naive_bayes import MultinomialNB\n",
    "from sklearn.metrics import accuracy_score,confusion_matrix,classification_report"
   ]
  },
  {
   "cell_type": "code",
   "execution_count": 26,
   "id": "b75be81b",
   "metadata": {},
   "outputs": [],
   "source": [
    "imdbdata=pd.read_csv(\"IMDB Dataset.csv\")"
   ]
  },
  {
   "cell_type": "code",
   "execution_count": 27,
   "id": "d17c2291",
   "metadata": {},
   "outputs": [
    {
     "data": {
      "text/html": [
       "<div>\n",
       "<style scoped>\n",
       "    .dataframe tbody tr th:only-of-type {\n",
       "        vertical-align: middle;\n",
       "    }\n",
       "\n",
       "    .dataframe tbody tr th {\n",
       "        vertical-align: top;\n",
       "    }\n",
       "\n",
       "    .dataframe thead th {\n",
       "        text-align: right;\n",
       "    }\n",
       "</style>\n",
       "<table border=\"1\" class=\"dataframe\">\n",
       "  <thead>\n",
       "    <tr style=\"text-align: right;\">\n",
       "      <th></th>\n",
       "      <th>review</th>\n",
       "      <th>sentiment</th>\n",
       "    </tr>\n",
       "  </thead>\n",
       "  <tbody>\n",
       "    <tr>\n",
       "      <th>23125</th>\n",
       "      <td>Halloween is not only the godfather of all sla...</td>\n",
       "      <td>positive</td>\n",
       "    </tr>\n",
       "    <tr>\n",
       "      <th>37411</th>\n",
       "      <td>Seriously what were they thinking? Over the co...</td>\n",
       "      <td>negative</td>\n",
       "    </tr>\n",
       "    <tr>\n",
       "      <th>33411</th>\n",
       "      <td>THis movie shows us once again, how genius the...</td>\n",
       "      <td>positive</td>\n",
       "    </tr>\n",
       "  </tbody>\n",
       "</table>\n",
       "</div>"
      ],
      "text/plain": [
       "                                                  review sentiment\n",
       "23125  Halloween is not only the godfather of all sla...  positive\n",
       "37411  Seriously what were they thinking? Over the co...  negative\n",
       "33411  THis movie shows us once again, how genius the...  positive"
      ]
     },
     "execution_count": 27,
     "metadata": {},
     "output_type": "execute_result"
    }
   ],
   "source": [
    "imdbdata.sample(3)"
   ]
  },
  {
   "cell_type": "code",
   "execution_count": 28,
   "id": "670243bb",
   "metadata": {},
   "outputs": [
    {
     "data": {
      "text/html": [
       "<div>\n",
       "<style scoped>\n",
       "    .dataframe tbody tr th:only-of-type {\n",
       "        vertical-align: middle;\n",
       "    }\n",
       "\n",
       "    .dataframe tbody tr th {\n",
       "        vertical-align: top;\n",
       "    }\n",
       "\n",
       "    .dataframe thead th {\n",
       "        text-align: right;\n",
       "    }\n",
       "</style>\n",
       "<table border=\"1\" class=\"dataframe\">\n",
       "  <thead>\n",
       "    <tr style=\"text-align: right;\">\n",
       "      <th></th>\n",
       "      <th>review</th>\n",
       "      <th>sentiment</th>\n",
       "    </tr>\n",
       "  </thead>\n",
       "  <tbody>\n",
       "    <tr>\n",
       "      <th>count</th>\n",
       "      <td>50000</td>\n",
       "      <td>50000</td>\n",
       "    </tr>\n",
       "    <tr>\n",
       "      <th>unique</th>\n",
       "      <td>49582</td>\n",
       "      <td>2</td>\n",
       "    </tr>\n",
       "    <tr>\n",
       "      <th>top</th>\n",
       "      <td>Loved today's show!!! It was a variety and not...</td>\n",
       "      <td>positive</td>\n",
       "    </tr>\n",
       "    <tr>\n",
       "      <th>freq</th>\n",
       "      <td>5</td>\n",
       "      <td>25000</td>\n",
       "    </tr>\n",
       "  </tbody>\n",
       "</table>\n",
       "</div>"
      ],
      "text/plain": [
       "                                                   review sentiment\n",
       "count                                               50000     50000\n",
       "unique                                              49582         2\n",
       "top     Loved today's show!!! It was a variety and not...  positive\n",
       "freq                                                    5     25000"
      ]
     },
     "execution_count": 28,
     "metadata": {},
     "output_type": "execute_result"
    }
   ],
   "source": [
    "imdbdata.describe()"
   ]
  },
  {
   "cell_type": "code",
   "execution_count": 29,
   "id": "bbe37581",
   "metadata": {},
   "outputs": [],
   "source": [
    "imdbdata[\"sentiment\"].replace({\"positive\":0,\"negative\":1},inplace=True)"
   ]
  },
  {
   "cell_type": "code",
   "execution_count": 30,
   "id": "7c541ce7",
   "metadata": {},
   "outputs": [
    {
     "data": {
      "text/html": [
       "<div>\n",
       "<style scoped>\n",
       "    .dataframe tbody tr th:only-of-type {\n",
       "        vertical-align: middle;\n",
       "    }\n",
       "\n",
       "    .dataframe tbody tr th {\n",
       "        vertical-align: top;\n",
       "    }\n",
       "\n",
       "    .dataframe thead th {\n",
       "        text-align: right;\n",
       "    }\n",
       "</style>\n",
       "<table border=\"1\" class=\"dataframe\">\n",
       "  <thead>\n",
       "    <tr style=\"text-align: right;\">\n",
       "      <th></th>\n",
       "      <th>review</th>\n",
       "      <th>sentiment</th>\n",
       "    </tr>\n",
       "  </thead>\n",
       "  <tbody>\n",
       "    <tr>\n",
       "      <th>13366</th>\n",
       "      <td>What a trip down memory lane.&lt;br /&gt;&lt;br /&gt;Do no...</td>\n",
       "      <td>0</td>\n",
       "    </tr>\n",
       "    <tr>\n",
       "      <th>2498</th>\n",
       "      <td>This film breeches the fine line between satir...</td>\n",
       "      <td>1</td>\n",
       "    </tr>\n",
       "    <tr>\n",
       "      <th>22617</th>\n",
       "      <td>I am sad that a period of history that is so f...</td>\n",
       "      <td>1</td>\n",
       "    </tr>\n",
       "  </tbody>\n",
       "</table>\n",
       "</div>"
      ],
      "text/plain": [
       "                                                  review  sentiment\n",
       "13366  What a trip down memory lane.<br /><br />Do no...          0\n",
       "2498   This film breeches the fine line between satir...          1\n",
       "22617  I am sad that a period of history that is so f...          1"
      ]
     },
     "execution_count": 30,
     "metadata": {},
     "output_type": "execute_result"
    }
   ],
   "source": [
    "imdbdata.sample(3)"
   ]
  },
  {
   "cell_type": "code",
   "execution_count": 31,
   "id": "dfbafdfa",
   "metadata": {},
   "outputs": [
    {
     "name": "stdout",
     "output_type": "stream",
     "text": [
      "Null Data Count\n",
      "review       0\n",
      "sentiment    0\n",
      "dtype: int64\n"
     ]
    }
   ],
   "source": [
    "print(\"Null Data Count\")\n",
    "print(imdbdata.isna().sum())"
   ]
  },
  {
   "cell_type": "code",
   "execution_count": 32,
   "id": "081467c7",
   "metadata": {},
   "outputs": [],
   "source": [
    "countVectorizer=CountVectorizer()\n",
    "data_count_vects=countVectorizer.fit_transform(imdbdata[\"review\"])"
   ]
  },
  {
   "cell_type": "code",
   "execution_count": 33,
   "id": "2e9c5684",
   "metadata": {},
   "outputs": [],
   "source": [
    "TfTrans=TfidfTransformer()\n",
    "data_trans_vectors=TfTrans.fit_transform(data_count_vects)"
   ]
  },
  {
   "cell_type": "code",
   "execution_count": 34,
   "id": "079b84fc",
   "metadata": {},
   "outputs": [],
   "source": [
    "train,test,train_label,test_label=train_test_split(data_trans_vectors,imdbdata['sentiment'],test_size=0.3,random_state=42,shuffle=True)"
   ]
  },
  {
   "cell_type": "code",
   "execution_count": 35,
   "id": "85848f91",
   "metadata": {},
   "outputs": [],
   "source": [
    "Mnb=MultinomialNB()\n",
    "model=Mnb.fit(train,train_label)\n",
    "predictions=model.predict(test)"
   ]
  },
  {
   "cell_type": "code",
   "execution_count": 36,
   "id": "3c1c11db",
   "metadata": {},
   "outputs": [
    {
     "name": "stdout",
     "output_type": "stream",
     "text": [
      "Accuracy Score ::  0.8603333333333333\n",
      "\n",
      "Confusion Matrix ::  [[6281 1308]\n",
      " [ 787 6624]]\n",
      "\n",
      "Classification Report ::                precision    recall  f1-score   support\n",
      "\n",
      "           0       0.89      0.83      0.86      7589\n",
      "           1       0.84      0.89      0.86      7411\n",
      "\n",
      "    accuracy                           0.86     15000\n",
      "   macro avg       0.86      0.86      0.86     15000\n",
      "weighted avg       0.86      0.86      0.86     15000\n",
      "\n"
     ]
    }
   ],
   "source": [
    "print(\"Accuracy Score :: \",accuracy_score(test_label,predictions))\n",
    "print()\n",
    "print(\"Confusion Matrix :: \",confusion_matrix(test_label,predictions))\n",
    "print()\n",
    "print(\"Classification Report :: \",classification_report(test_label,predictions))"
   ]
  },
  {
   "cell_type": "code",
   "execution_count": 37,
   "id": "3ca1c58a",
   "metadata": {},
   "outputs": [],
   "source": [
    "def getTextTransformedValue(review):\n",
    "    count_data=countVectorizer.transform([review])\n",
    "    trans_data=TfTrans.fit_transform(count_data)\n",
    "    return trans_data"
   ]
  },
  {
   "cell_type": "code",
   "execution_count": 38,
   "id": "a3ec42c9",
   "metadata": {},
   "outputs": [],
   "source": [
    "def getPredictions(transText):\n",
    "    return model.predict(transText)"
   ]
  },
  {
   "cell_type": "code",
   "execution_count": null,
   "id": "04a3eac8",
   "metadata": {},
   "outputs": [],
   "source": []
  },
  {
   "cell_type": "code",
   "execution_count": 39,
   "id": "db93c93f",
   "metadata": {},
   "outputs": [],
   "source": [
    "cv=open(\"countvectorizer.pickle\",\"wb\")\n",
    "pickle.dump(countVectorizer,cv)"
   ]
  },
  {
   "cell_type": "code",
   "execution_count": 42,
   "id": "2f7c8a00",
   "metadata": {},
   "outputs": [],
   "source": [
    "tf=open(\"tfidftransformer.pickle\",\"wb\")\n",
    "pickle.dump(TfTrans,tf)\n",
    "tf.close()"
   ]
  },
  {
   "cell_type": "code",
   "execution_count": 43,
   "id": "5de5e7e5",
   "metadata": {},
   "outputs": [],
   "source": [
    "algorithm=open(\"algorithm.pickle\",\"wb\")\n",
    "pickle.dump(model,algorithm)\n",
    "algorithm.close()"
   ]
  },
  {
   "cell_type": "code",
   "execution_count": null,
   "id": "68ba7c56",
   "metadata": {},
   "outputs": [],
   "source": []
  }
 ],
 "metadata": {
  "kernelspec": {
   "display_name": "Python 3 (ipykernel)",
   "language": "python",
   "name": "python3"
  },
  "language_info": {
   "codemirror_mode": {
    "name": "ipython",
    "version": 3
   },
   "file_extension": ".py",
   "mimetype": "text/x-python",
   "name": "python",
   "nbconvert_exporter": "python",
   "pygments_lexer": "ipython3",
   "version": "3.9.7"
  }
 },
 "nbformat": 4,
 "nbformat_minor": 5
}
